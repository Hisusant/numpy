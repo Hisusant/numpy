{
 "cells": [
  {
   "cell_type": "code",
   "execution_count": 1,
   "id": "95b93868",
   "metadata": {},
   "outputs": [],
   "source": [
    "import numpy as np"
   ]
  },
  {
   "cell_type": "code",
   "execution_count": 2,
   "id": "ed72e690",
   "metadata": {},
   "outputs": [],
   "source": [
    "l = [1,2,3,4,5,4,3,2]"
   ]
  },
  {
   "cell_type": "code",
   "execution_count": 3,
   "id": "fc1a0f80",
   "metadata": {},
   "outputs": [
    {
     "data": {
      "text/plain": [
       "array([1, 2, 3, 4, 5, 4, 3, 2])"
      ]
     },
     "execution_count": 3,
     "metadata": {},
     "output_type": "execute_result"
    }
   ],
   "source": [
    "np.array(l)   # return int data, not converted to str"
   ]
  },
  {
   "cell_type": "code",
   "execution_count": 4,
   "id": "57177768",
   "metadata": {},
   "outputs": [],
   "source": [
    "l1 = [1,2,3,2,1,'susant', 33.33, True]"
   ]
  },
  {
   "cell_type": "code",
   "execution_count": 7,
   "id": "73823475",
   "metadata": {},
   "outputs": [],
   "source": [
    "a1 = np.array(l1)  # return str data, converted to str"
   ]
  },
  {
   "cell_type": "code",
   "execution_count": 8,
   "id": "30f3f5d7",
   "metadata": {},
   "outputs": [
    {
     "data": {
      "text/plain": [
       "array(['1', '2', '3', '2', '1', 'susant', '33.33', 'True'], dtype='<U32')"
      ]
     },
     "execution_count": 8,
     "metadata": {},
     "output_type": "execute_result"
    }
   ],
   "source": [
    "a1"
   ]
  },
  {
   "cell_type": "code",
   "execution_count": 9,
   "id": "d1e2b5b6",
   "metadata": {},
   "outputs": [],
   "source": [
    "a2 = np.array([[2,3,4,5],[3,4,5,6]])  # 2d array"
   ]
  },
  {
   "cell_type": "code",
   "execution_count": 10,
   "id": "0cddbae0",
   "metadata": {},
   "outputs": [
    {
     "data": {
      "text/plain": [
       "array([[2, 3, 4, 5],\n",
       "       [3, 4, 5, 6]])"
      ]
     },
     "execution_count": 10,
     "metadata": {},
     "output_type": "execute_result"
    }
   ],
   "source": [
    "a2"
   ]
  },
  {
   "cell_type": "code",
   "execution_count": 13,
   "id": "25454492",
   "metadata": {},
   "outputs": [],
   "source": [
    "a3 = np.array([[[1,2,3,4],[2,3,4,2],[4,5,6,7]]])  # 3d array"
   ]
  },
  {
   "cell_type": "code",
   "execution_count": 14,
   "id": "19a490d0",
   "metadata": {},
   "outputs": [
    {
     "data": {
      "text/plain": [
       "array([[[1, 2, 3, 4],\n",
       "        [2, 3, 4, 2],\n",
       "        [4, 5, 6, 7]]])"
      ]
     },
     "execution_count": 14,
     "metadata": {},
     "output_type": "execute_result"
    }
   ],
   "source": [
    "a3"
   ]
  },
  {
   "cell_type": "code",
   "execution_count": 15,
   "id": "a7a42b11",
   "metadata": {},
   "outputs": [
    {
     "data": {
      "text/plain": [
       "1"
      ]
     },
     "execution_count": 15,
     "metadata": {},
     "output_type": "execute_result"
    }
   ],
   "source": [
    "a1.ndim"
   ]
  },
  {
   "cell_type": "code",
   "execution_count": 16,
   "id": "4aa113a6",
   "metadata": {},
   "outputs": [
    {
     "data": {
      "text/plain": [
       "2"
      ]
     },
     "execution_count": 16,
     "metadata": {},
     "output_type": "execute_result"
    }
   ],
   "source": [
    "a2.ndim"
   ]
  },
  {
   "cell_type": "code",
   "execution_count": 17,
   "id": "d2dfc439",
   "metadata": {},
   "outputs": [
    {
     "data": {
      "text/plain": [
       "3"
      ]
     },
     "execution_count": 17,
     "metadata": {},
     "output_type": "execute_result"
    }
   ],
   "source": [
    "a3.ndim"
   ]
  },
  {
   "cell_type": "code",
   "execution_count": 18,
   "id": "0e69f362",
   "metadata": {},
   "outputs": [
    {
     "data": {
      "text/plain": [
       "8"
      ]
     },
     "execution_count": 18,
     "metadata": {},
     "output_type": "execute_result"
    }
   ],
   "source": [
    "a1.size  # return total number of elements "
   ]
  },
  {
   "cell_type": "code",
   "execution_count": 19,
   "id": "931bf2cf",
   "metadata": {},
   "outputs": [
    {
     "data": {
      "text/plain": [
       "8"
      ]
     },
     "execution_count": 19,
     "metadata": {},
     "output_type": "execute_result"
    }
   ],
   "source": [
    "a2.size"
   ]
  },
  {
   "cell_type": "code",
   "execution_count": 20,
   "id": "5b47cff2",
   "metadata": {},
   "outputs": [
    {
     "data": {
      "text/plain": [
       "12"
      ]
     },
     "execution_count": 20,
     "metadata": {},
     "output_type": "execute_result"
    }
   ],
   "source": [
    "a3.size"
   ]
  },
  {
   "cell_type": "code",
   "execution_count": 21,
   "id": "61abb8a0",
   "metadata": {},
   "outputs": [
    {
     "data": {
      "text/plain": [
       "(8,)"
      ]
     },
     "execution_count": 21,
     "metadata": {},
     "output_type": "execute_result"
    }
   ],
   "source": [
    "a1.shape   # tottal number of elements"
   ]
  },
  {
   "cell_type": "code",
   "execution_count": 22,
   "id": "bfeb5e6e",
   "metadata": {},
   "outputs": [
    {
     "data": {
      "text/plain": [
       "(2, 4)"
      ]
     },
     "execution_count": 22,
     "metadata": {},
     "output_type": "execute_result"
    }
   ],
   "source": [
    "a2.shape  # 2 rows and 4 columns"
   ]
  },
  {
   "cell_type": "code",
   "execution_count": 23,
   "id": "34e17501",
   "metadata": {},
   "outputs": [
    {
     "data": {
      "text/plain": [
       "(1, 3, 4)"
      ]
     },
     "execution_count": 23,
     "metadata": {},
     "output_type": "execute_result"
    }
   ],
   "source": [
    "a3.shape   # 1 matrix, 3 rows , 4 columns"
   ]
  },
  {
   "cell_type": "code",
   "execution_count": 34,
   "id": "6390f354",
   "metadata": {},
   "outputs": [
    {
     "data": {
      "text/plain": [
       "1123"
      ]
     },
     "execution_count": 34,
     "metadata": {},
     "output_type": "execute_result"
    }
   ],
   "source": [
    "np.random.randint(1000,2220)  \n",
    "# generate 4 digit number betwen the range 1000-2220"
   ]
  },
  {
   "cell_type": "code",
   "execution_count": 35,
   "id": "8ad935d4",
   "metadata": {},
   "outputs": [
    {
     "data": {
      "text/plain": [
       "4"
      ]
     },
     "execution_count": 35,
     "metadata": {},
     "output_type": "execute_result"
    }
   ],
   "source": [
    "np.random.randint(1,10)  \n",
    "# generate random number between 1 to 10"
   ]
  },
  {
   "cell_type": "code",
   "execution_count": 36,
   "id": "d36fb78b",
   "metadata": {},
   "outputs": [
    {
     "data": {
      "text/plain": [
       "array([[ 4,  8, 32],\n",
       "       [42,  1, 45],\n",
       "       [37, 17, 49],\n",
       "       [36, 31, 34],\n",
       "       [41, 38, 37],\n",
       "       [40, 22, 15],\n",
       "       [34, 46,  7],\n",
       "       [ 8, 18,  7],\n",
       "       [40, 12, 34],\n",
       "       [41, 10,  1]])"
      ]
     },
     "execution_count": 36,
     "metadata": {},
     "output_type": "execute_result"
    }
   ],
   "source": [
    "np.random.randint(1,50,(10,3))  \n",
    "# generate random numbers in between 1 to 50 in an array which has 10 rows and 3 columns and 1 matrix"
   ]
  },
  {
   "cell_type": "code",
   "execution_count": 37,
   "id": "21b4ad7d",
   "metadata": {},
   "outputs": [
    {
     "data": {
      "text/plain": [
       "array([[[35, 23, 20],\n",
       "        [18, 43,  6],\n",
       "        [ 1,  8, 19],\n",
       "        [ 7, 47, 10],\n",
       "        [16, 48, 21],\n",
       "        [ 9,  4, 18],\n",
       "        [39, 19, 26],\n",
       "        [ 8, 25, 39],\n",
       "        [32,  6, 29],\n",
       "        [14, 30, 13]],\n",
       "\n",
       "       [[45, 13, 18],\n",
       "        [28, 24,  6],\n",
       "        [39, 29, 34],\n",
       "        [ 3,  7, 31],\n",
       "        [17, 49,  6],\n",
       "        [ 2, 24, 27],\n",
       "        [39, 48,  1],\n",
       "        [ 9, 26, 46],\n",
       "        [ 5,  8, 33],\n",
       "        [23,  8,  7]]])"
      ]
     },
     "execution_count": 37,
     "metadata": {},
     "output_type": "execute_result"
    }
   ],
   "source": [
    "np.random.randint(1,50,(2,10,3)) \n",
    "# generate random numbers in between 1 to 50 in an array which has 10 rows and 3 columns and  2 matrix"
   ]
  },
  {
   "cell_type": "code",
   "execution_count": 50,
   "id": "3bbca385",
   "metadata": {},
   "outputs": [
    {
     "data": {
      "text/plain": [
       "array([[0.45636703, 0.36033449],\n",
       "       [0.76240865, 0.72470721],\n",
       "       [0.72874278, 0.36090535],\n",
       "       [0.02780406, 0.5662966 ],\n",
       "       [0.5409436 , 0.16615736]])"
      ]
     },
     "execution_count": 50,
     "metadata": {},
     "output_type": "execute_result"
    }
   ],
   "source": [
    "np.random.rand(5,2)  \n",
    "# rand() generate random normal distribution which has here 5 rows and 2 colms"
   ]
  },
  {
   "cell_type": "code",
   "execution_count": 54,
   "id": "66b2fa58",
   "metadata": {},
   "outputs": [
    {
     "data": {
      "text/plain": [
       "array([[ 1.18823765, -0.44737593,  1.43145579, -1.65224501],\n",
       "       [ 1.51137557, -3.43596529, -0.05752992,  0.31154839],\n",
       "       [ 0.62988106, -1.5010766 , -1.26504294,  0.13030206]])"
      ]
     },
     "execution_count": 54,
     "metadata": {},
     "output_type": "execute_result"
    }
   ],
   "source": [
    "np.random.randn(3,4)  \n",
    "# randint -> generate int number but randn -> generate normal distribution, mean=0, standard deviation=1"
   ]
  },
  {
   "cell_type": "code",
   "execution_count": 57,
   "id": "b6d70a04",
   "metadata": {},
   "outputs": [],
   "source": [
    "a4 = np.random.randn(4,4)"
   ]
  },
  {
   "cell_type": "code",
   "execution_count": 58,
   "id": "df24f0d8",
   "metadata": {},
   "outputs": [
    {
     "data": {
      "text/plain": [
       "array([[-0.36486092, -0.10705058, -0.49517509, -1.63297839],\n",
       "       [-1.2454858 , -1.26767881,  1.08315568,  0.22291727],\n",
       "       [-0.96611135,  0.28068799,  1.16642399,  0.4304751 ],\n",
       "       [ 0.49710306,  1.40305999, -1.61556496, -0.89656584]])"
      ]
     },
     "execution_count": 58,
     "metadata": {},
     "output_type": "execute_result"
    }
   ],
   "source": [
    "a4"
   ]
  },
  {
   "cell_type": "code",
   "execution_count": 60,
   "id": "d3aae1e5",
   "metadata": {},
   "outputs": [
    {
     "data": {
      "text/plain": [
       "array([[-0.36486092, -0.10705058],\n",
       "       [-0.49517509, -1.63297839],\n",
       "       [-1.2454858 , -1.26767881],\n",
       "       [ 1.08315568,  0.22291727],\n",
       "       [-0.96611135,  0.28068799],\n",
       "       [ 1.16642399,  0.4304751 ],\n",
       "       [ 0.49710306,  1.40305999],\n",
       "       [-1.61556496, -0.89656584]])"
      ]
     },
     "execution_count": 60,
     "metadata": {},
     "output_type": "execute_result"
    }
   ],
   "source": [
    "a4.reshape(8,2)  \n",
    "# reshape() - To reshape the array 4*4, 2*8, 8*2, 1*16"
   ]
  },
  {
   "cell_type": "code",
   "execution_count": 67,
   "id": "96536c9f",
   "metadata": {},
   "outputs": [
    {
     "data": {
      "text/plain": [
       "array([[-0.36486092, -0.10705058],\n",
       "       [-0.49517509, -1.63297839],\n",
       "       [-1.2454858 , -1.26767881],\n",
       "       [ 1.08315568,  0.22291727],\n",
       "       [-0.96611135,  0.28068799],\n",
       "       [ 1.16642399,  0.4304751 ],\n",
       "       [ 0.49710306,  1.40305999],\n",
       "       [-1.61556496, -0.89656584]])"
      ]
     },
     "execution_count": 67,
     "metadata": {},
     "output_type": "execute_result"
    }
   ],
   "source": [
    "a4.reshape(8,-1345)   # reshape 8*2 , it takes 2 bydefault, -1345 is for negetive number"
   ]
  },
  {
   "cell_type": "code",
   "execution_count": 70,
   "id": "fccead24",
   "metadata": {},
   "outputs": [
    {
     "data": {
      "text/plain": [
       "array([[[-0.36486092, -0.10705058, -0.49517509, -1.63297839],\n",
       "        [-1.2454858 , -1.26767881,  1.08315568,  0.22291727]],\n",
       "\n",
       "       [[-0.96611135,  0.28068799,  1.16642399,  0.4304751 ],\n",
       "        [ 0.49710306,  1.40305999, -1.61556496, -0.89656584]]])"
      ]
     },
     "execution_count": 70,
     "metadata": {},
     "output_type": "execute_result"
    }
   ],
   "source": [
    "a4.reshape(2,2,4)  # 2 matrix * 2 rows * 4 columns "
   ]
  },
  {
   "cell_type": "code",
   "execution_count": 71,
   "id": "ee7c7f59",
   "metadata": {},
   "outputs": [
    {
     "data": {
      "text/plain": [
       "array([[[[[[[-0.36486092, -0.10705058, -0.49517509, -1.63297839],\n",
       "            [-1.2454858 , -1.26767881,  1.08315568,  0.22291727]],\n",
       "\n",
       "           [[-0.96611135,  0.28068799,  1.16642399,  0.4304751 ],\n",
       "            [ 0.49710306,  1.40305999, -1.61556496, -0.89656584]]]]]]])"
      ]
     },
     "execution_count": 71,
     "metadata": {},
     "output_type": "execute_result"
    }
   ],
   "source": [
    "a4.reshape(1,1,1,1,2,2,4)"
   ]
  },
  {
   "cell_type": "code",
   "execution_count": 72,
   "id": "32db9d98",
   "metadata": {},
   "outputs": [
    {
     "data": {
      "text/plain": [
       "array([[-0.36486092, -0.10705058, -0.49517509, -1.63297839],\n",
       "       [-1.2454858 , -1.26767881,  1.08315568,  0.22291727],\n",
       "       [-0.96611135,  0.28068799,  1.16642399,  0.4304751 ],\n",
       "       [ 0.49710306,  1.40305999, -1.61556496, -0.89656584]])"
      ]
     },
     "execution_count": 72,
     "metadata": {},
     "output_type": "execute_result"
    }
   ],
   "source": [
    "a4"
   ]
  },
  {
   "cell_type": "code",
   "execution_count": 73,
   "id": "0d3671cf",
   "metadata": {},
   "outputs": [
    {
     "data": {
      "text/plain": [
       "array([-0.36486092, -0.10705058, -0.49517509, -1.63297839])"
      ]
     },
     "execution_count": 73,
     "metadata": {},
     "output_type": "execute_result"
    }
   ],
   "source": [
    "a4[0]  # retrive 0th index/rows data"
   ]
  },
  {
   "cell_type": "code",
   "execution_count": 74,
   "id": "05ed2660",
   "metadata": {},
   "outputs": [
    {
     "data": {
      "text/plain": [
       "array([-1.2454858 , -1.26767881,  1.08315568,  0.22291727])"
      ]
     },
     "execution_count": 74,
     "metadata": {},
     "output_type": "execute_result"
    }
   ],
   "source": [
    "a4[1]  # retrive 1st index/rows data"
   ]
  },
  {
   "cell_type": "code",
   "execution_count": 77,
   "id": "1f19bdf9",
   "metadata": {},
   "outputs": [
    {
     "data": {
      "text/plain": [
       "array(['1', '2', '3', '2', '1', 'susant', '33.33', 'True'], dtype='<U32')"
      ]
     },
     "execution_count": 77,
     "metadata": {},
     "output_type": "execute_result"
    }
   ],
   "source": [
    "a1"
   ]
  },
  {
   "cell_type": "code",
   "execution_count": 75,
   "id": "f4ae7019",
   "metadata": {},
   "outputs": [
    {
     "data": {
      "text/plain": [
       "'1'"
      ]
     },
     "execution_count": 75,
     "metadata": {},
     "output_type": "execute_result"
    }
   ],
   "source": [
    "a1[0]"
   ]
  },
  {
   "cell_type": "code",
   "execution_count": 76,
   "id": "b4522ad3",
   "metadata": {},
   "outputs": [
    {
     "data": {
      "text/plain": [
       "array(['3', '2'], dtype='<U32')"
      ]
     },
     "execution_count": 76,
     "metadata": {},
     "output_type": "execute_result"
    }
   ],
   "source": [
    "a1[2:4]"
   ]
  },
  {
   "cell_type": "code",
   "execution_count": 79,
   "id": "40abecf8",
   "metadata": {},
   "outputs": [
    {
     "data": {
      "text/plain": [
       "array(['3', '1', '33.33'], dtype='<U32')"
      ]
     },
     "execution_count": 79,
     "metadata": {},
     "output_type": "execute_result"
    }
   ],
   "source": [
    "a1[2:8:2]"
   ]
  },
  {
   "cell_type": "code",
   "execution_count": 80,
   "id": "2c469378",
   "metadata": {},
   "outputs": [
    {
     "data": {
      "text/plain": [
       "array([[2, 3, 4, 5],\n",
       "       [3, 4, 5, 6]])"
      ]
     },
     "execution_count": 80,
     "metadata": {},
     "output_type": "execute_result"
    }
   ],
   "source": [
    "a2"
   ]
  },
  {
   "cell_type": "code",
   "execution_count": 81,
   "id": "ed071fc6",
   "metadata": {},
   "outputs": [
    {
     "data": {
      "text/plain": [
       "array([2, 3, 4, 5])"
      ]
     },
     "execution_count": 81,
     "metadata": {},
     "output_type": "execute_result"
    }
   ],
   "source": [
    "a2[0]"
   ]
  },
  {
   "cell_type": "code",
   "execution_count": 82,
   "id": "e2ad11cd",
   "metadata": {},
   "outputs": [
    {
     "data": {
      "text/plain": [
       "array([3, 4, 5, 6])"
      ]
     },
     "execution_count": 82,
     "metadata": {},
     "output_type": "execute_result"
    }
   ],
   "source": [
    "a2[1]"
   ]
  },
  {
   "cell_type": "code",
   "execution_count": 83,
   "id": "9b17f75d",
   "metadata": {},
   "outputs": [
    {
     "data": {
      "text/plain": [
       "array([[4, 5],\n",
       "       [5, 6]])"
      ]
     },
     "execution_count": 83,
     "metadata": {},
     "output_type": "execute_result"
    }
   ],
   "source": [
    "a2[:,2:]"
   ]
  },
  {
   "cell_type": "code",
   "execution_count": 85,
   "id": "7feddeab",
   "metadata": {},
   "outputs": [
    {
     "data": {
      "text/plain": [
       "array([[4, 5],\n",
       "       [5, 6]])"
      ]
     },
     "execution_count": 85,
     "metadata": {},
     "output_type": "execute_result"
    }
   ],
   "source": [
    "a2[0:2,2:4]"
   ]
  },
  {
   "cell_type": "code",
   "execution_count": 86,
   "id": "0afea543",
   "metadata": {},
   "outputs": [],
   "source": [
    "a5 = np.random.randint(2,90,(6,5))\n",
    "# random numbers between 2 to 90 and rows =6, colmns =5"
   ]
  },
  {
   "cell_type": "code",
   "execution_count": 87,
   "id": "a1917685",
   "metadata": {},
   "outputs": [
    {
     "data": {
      "text/plain": [
       "array([[55, 31, 73, 84,  4],\n",
       "       [35, 49, 62, 16, 46],\n",
       "       [18, 61, 38, 22, 17],\n",
       "       [32,  6, 72, 65, 39],\n",
       "       [56,  7, 31, 45, 60],\n",
       "       [45,  5, 73, 86, 23]])"
      ]
     },
     "execution_count": 87,
     "metadata": {},
     "output_type": "execute_result"
    }
   ],
   "source": [
    "a5"
   ]
  },
  {
   "cell_type": "code",
   "execution_count": 88,
   "id": "7bb62ee8",
   "metadata": {},
   "outputs": [
    {
     "data": {
      "text/plain": [
       "array([55, 73, 84, 49, 62, 46, 61, 72, 65, 56, 45, 60, 45, 73, 86])"
      ]
     },
     "execution_count": 88,
     "metadata": {},
     "output_type": "execute_result"
    }
   ],
   "source": [
    "a5[a5>40]  # filter operation"
   ]
  },
  {
   "cell_type": "code",
   "execution_count": 89,
   "id": "e07c6496",
   "metadata": {},
   "outputs": [
    {
     "data": {
      "text/plain": [
       "array([[55, 31, 73, 84,  4],\n",
       "       [35, 49, 62, 16, 46],\n",
       "       [18, 61, 38, 22, 17],\n",
       "       [32,  6, 72, 65, 39],\n",
       "       [56,  7, 31, 45, 60],\n",
       "       [45,  5, 73, 86, 23]])"
      ]
     },
     "execution_count": 89,
     "metadata": {},
     "output_type": "execute_result"
    }
   ],
   "source": [
    "a5"
   ]
  },
  {
   "cell_type": "code",
   "execution_count": 90,
   "id": "979aad81",
   "metadata": {},
   "outputs": [],
   "source": [
    "a5[0,0] = 100  # value assignment "
   ]
  },
  {
   "cell_type": "code",
   "execution_count": 91,
   "id": "c3bb99e4",
   "metadata": {},
   "outputs": [
    {
     "data": {
      "text/plain": [
       "array([[100,  31,  73,  84,   4],\n",
       "       [ 35,  49,  62,  16,  46],\n",
       "       [ 18,  61,  38,  22,  17],\n",
       "       [ 32,   6,  72,  65,  39],\n",
       "       [ 56,   7,  31,  45,  60],\n",
       "       [ 45,   5,  73,  86,  23]])"
      ]
     },
     "execution_count": 91,
     "metadata": {},
     "output_type": "execute_result"
    }
   ],
   "source": [
    "a5"
   ]
  },
  {
   "cell_type": "code",
   "execution_count": 92,
   "id": "05b331ed",
   "metadata": {},
   "outputs": [],
   "source": [
    "a5[1,2]=300  # value assignment "
   ]
  },
  {
   "cell_type": "code",
   "execution_count": 93,
   "id": "5203fe1b",
   "metadata": {},
   "outputs": [
    {
     "data": {
      "text/plain": [
       "array([[100,  31,  73,  84,   4],\n",
       "       [ 35,  49, 300,  16,  46],\n",
       "       [ 18,  61,  38,  22,  17],\n",
       "       [ 32,   6,  72,  65,  39],\n",
       "       [ 56,   7,  31,  45,  60],\n",
       "       [ 45,   5,  73,  86,  23]])"
      ]
     },
     "execution_count": 93,
     "metadata": {},
     "output_type": "execute_result"
    }
   ],
   "source": [
    "a5"
   ]
  },
  {
   "cell_type": "code",
   "execution_count": 96,
   "id": "4719a366",
   "metadata": {},
   "outputs": [
    {
     "data": {
      "text/plain": [
       "array([[0, 0, 2],\n",
       "       [2, 1, 2],\n",
       "       [2, 1, 1]])"
      ]
     },
     "execution_count": 96,
     "metadata": {},
     "output_type": "execute_result"
    }
   ],
   "source": [
    "a6 = np.random.randint(0,3,(3,3))\n",
    "a6"
   ]
  },
  {
   "cell_type": "code",
   "execution_count": 97,
   "id": "a10cca66",
   "metadata": {},
   "outputs": [
    {
     "data": {
      "text/plain": [
       "array([[2, 2, 0],\n",
       "       [1, 1, 0],\n",
       "       [0, 1, 0]])"
      ]
     },
     "execution_count": 97,
     "metadata": {},
     "output_type": "execute_result"
    }
   ],
   "source": [
    "a7 = np.random.randint(0,3,(3,3))\n",
    "a7"
   ]
  },
  {
   "cell_type": "code",
   "execution_count": 98,
   "id": "c5a5e45c",
   "metadata": {},
   "outputs": [
    {
     "data": {
      "text/plain": [
       "array([[0, 0, 0],\n",
       "       [2, 1, 0],\n",
       "       [0, 1, 0]])"
      ]
     },
     "execution_count": 98,
     "metadata": {},
     "output_type": "execute_result"
    }
   ],
   "source": [
    "a6*a7  # element wise multiplication"
   ]
  },
  {
   "cell_type": "code",
   "execution_count": null,
   "id": "0d3d2b6b",
   "metadata": {},
   "outputs": [],
   "source": [
    "# how to do matrix multiplication \n",
    "# criteria = 1st matrix's columns number and 2nd matrix's rows number should be same \n",
    "# for matrix multiplication we use @ for mutiply"
   ]
  },
  {
   "cell_type": "code",
   "execution_count": 99,
   "id": "9525958d",
   "metadata": {},
   "outputs": [
    {
     "data": {
      "text/plain": [
       "array([[0, 2, 0],\n",
       "       [5, 7, 0],\n",
       "       [5, 6, 0]])"
      ]
     },
     "execution_count": 99,
     "metadata": {},
     "output_type": "execute_result"
    }
   ],
   "source": [
    "a6@a7  # matrix multiplication"
   ]
  },
  {
   "cell_type": "code",
   "execution_count": 100,
   "id": "5f65e17b",
   "metadata": {},
   "outputs": [
    {
     "data": {
      "text/plain": [
       "array([[1, 1, 1],\n",
       "       [2, 1, 2]])"
      ]
     },
     "execution_count": 100,
     "metadata": {},
     "output_type": "execute_result"
    }
   ],
   "source": [
    "a8 = np.random.randint(1,4,(2,3))\n",
    "a8"
   ]
  },
  {
   "cell_type": "code",
   "execution_count": 101,
   "id": "2f6332d5",
   "metadata": {},
   "outputs": [
    {
     "data": {
      "text/plain": [
       "array([[2, 1],\n",
       "       [4, 1],\n",
       "       [3, 3]])"
      ]
     },
     "execution_count": 101,
     "metadata": {},
     "output_type": "execute_result"
    }
   ],
   "source": [
    "a9 = np.random.randint(1,5,(3,2))\n",
    "a9"
   ]
  },
  {
   "cell_type": "code",
   "execution_count": 102,
   "id": "93a83d03",
   "metadata": {},
   "outputs": [
    {
     "data": {
      "text/plain": [
       "array([[ 9,  5],\n",
       "       [14,  9]])"
      ]
     },
     "execution_count": 102,
     "metadata": {},
     "output_type": "execute_result"
    }
   ],
   "source": [
    "a8@a9  # matrix multiplication"
   ]
  },
  {
   "cell_type": "code",
   "execution_count": 103,
   "id": "6d10dfde",
   "metadata": {},
   "outputs": [
    {
     "data": {
      "text/plain": [
       "array([[101, 101, 101],\n",
       "       [102, 101, 102]])"
      ]
     },
     "execution_count": 103,
     "metadata": {},
     "output_type": "execute_result"
    }
   ],
   "source": [
    "a8+100 # addition"
   ]
  },
  {
   "cell_type": "code",
   "execution_count": 104,
   "id": "e3a5175c",
   "metadata": {},
   "outputs": [
    {
     "data": {
      "text/plain": [
       "array([[2, 2, 2],\n",
       "       [4, 2, 4]])"
      ]
     },
     "execution_count": 104,
     "metadata": {},
     "output_type": "execute_result"
    }
   ],
   "source": [
    "a8*2  # multiplication"
   ]
  },
  {
   "cell_type": "code",
   "execution_count": 106,
   "id": "33b24b4c",
   "metadata": {},
   "outputs": [
    {
     "name": "stderr",
     "output_type": "stream",
     "text": [
      "C:\\Users\\dell\\AppData\\Local\\Temp/ipykernel_3984/892560483.py:1: RuntimeWarning: divide by zero encountered in true_divide\n",
      "  a8/0  # not return error, it returns infinite,\n"
     ]
    },
    {
     "data": {
      "text/plain": [
       "array([[inf, inf, inf],\n",
       "       [inf, inf, inf]])"
      ]
     },
     "execution_count": 106,
     "metadata": {},
     "output_type": "execute_result"
    }
   ],
   "source": [
    "a8/0  # not return error, it returns infinite"
   ]
  },
  {
   "cell_type": "code",
   "execution_count": 107,
   "id": "c474ce01",
   "metadata": {},
   "outputs": [
    {
     "data": {
      "text/plain": [
       "array([[1, 1, 1],\n",
       "       [8, 1, 8]], dtype=int32)"
      ]
     },
     "execution_count": 107,
     "metadata": {},
     "output_type": "execute_result"
    }
   ],
   "source": [
    "a8**3  # power"
   ]
  },
  {
   "cell_type": "code",
   "execution_count": 109,
   "id": "b31f9eec",
   "metadata": {},
   "outputs": [
    {
     "data": {
      "text/plain": [
       "array([[0., 0., 0., 0.],\n",
       "       [0., 0., 0., 0.],\n",
       "       [0., 0., 0., 0.],\n",
       "       [0., 0., 0., 0.]])"
      ]
     },
     "execution_count": 109,
     "metadata": {},
     "output_type": "execute_result"
    }
   ],
   "source": [
    "a10 = np.zeros((4,4))\n",
    "a10"
   ]
  },
  {
   "cell_type": "code",
   "execution_count": 111,
   "id": "ff7ddb2e",
   "metadata": {},
   "outputs": [
    {
     "data": {
      "text/plain": [
       "array([[1., 1., 1., 1., 1.],\n",
       "       [1., 1., 1., 1., 1.],\n",
       "       [1., 1., 1., 1., 1.],\n",
       "       [1., 1., 1., 1., 1.]])"
      ]
     },
     "execution_count": 111,
     "metadata": {},
     "output_type": "execute_result"
    }
   ],
   "source": [
    "a11 = np.ones((4,5))\n",
    "a11"
   ]
  },
  {
   "cell_type": "code",
   "execution_count": 112,
   "id": "6ad91dde",
   "metadata": {},
   "outputs": [],
   "source": [
    "# broadcast operation - rows wise and column wise operation like +, *, -"
   ]
  },
  {
   "cell_type": "code",
   "execution_count": 113,
   "id": "42ed3905",
   "metadata": {},
   "outputs": [
    {
     "data": {
      "text/plain": [
       "array([[2., 3., 4., 5., 6.],\n",
       "       [2., 3., 4., 5., 6.],\n",
       "       [2., 3., 4., 5., 6.],\n",
       "       [2., 3., 4., 5., 6.]])"
      ]
     },
     "execution_count": 113,
     "metadata": {},
     "output_type": "execute_result"
    }
   ],
   "source": [
    "a11 + np.array([1,2,3,4,5])  # adding these element to each rows - row wise operation"
   ]
  },
  {
   "cell_type": "code",
   "execution_count": 115,
   "id": "e82fafb3",
   "metadata": {},
   "outputs": [
    {
     "data": {
      "text/plain": [
       "array([[2., 2., 2., 2., 2.],\n",
       "       [3., 3., 3., 3., 3.],\n",
       "       [4., 4., 4., 4., 4.],\n",
       "       [5., 5., 5., 5., 5.]])"
      ]
     },
     "execution_count": 115,
     "metadata": {},
     "output_type": "execute_result"
    }
   ],
   "source": [
    "a11 + np.array([[1,2,3,4]]).T  \n",
    "# Transpose menas row will change to columns and viceversa, column wise aaddition"
   ]
  },
  {
   "cell_type": "code",
   "execution_count": 116,
   "id": "c06131f3",
   "metadata": {},
   "outputs": [
    {
     "data": {
      "text/plain": [
       "array([[0, 0, 2],\n",
       "       [2, 1, 2],\n",
       "       [2, 1, 1]])"
      ]
     },
     "execution_count": 116,
     "metadata": {},
     "output_type": "execute_result"
    }
   ],
   "source": [
    "a6"
   ]
  },
  {
   "cell_type": "code",
   "execution_count": 117,
   "id": "24fd77df",
   "metadata": {},
   "outputs": [
    {
     "data": {
      "text/plain": [
       "array([[0, 2, 2],\n",
       "       [0, 1, 1],\n",
       "       [2, 2, 1]])"
      ]
     },
     "execution_count": 117,
     "metadata": {},
     "output_type": "execute_result"
    }
   ],
   "source": [
    "a6.T  # transpose -chage rows to columns and viceversa"
   ]
  },
  {
   "cell_type": "code",
   "execution_count": 118,
   "id": "b0093725",
   "metadata": {},
   "outputs": [
    {
     "data": {
      "text/plain": [
       "array([[10.        ,  5.56776436,  8.54400375,  9.16515139,  2.        ],\n",
       "       [ 5.91607978,  7.        , 17.32050808,  4.        ,  6.78232998],\n",
       "       [ 4.24264069,  7.81024968,  6.164414  ,  4.69041576,  4.12310563],\n",
       "       [ 5.65685425,  2.44948974,  8.48528137,  8.06225775,  6.244998  ],\n",
       "       [ 7.48331477,  2.64575131,  5.56776436,  6.70820393,  7.74596669],\n",
       "       [ 6.70820393,  2.23606798,  8.54400375,  9.2736185 ,  4.79583152]])"
      ]
     },
     "execution_count": 118,
     "metadata": {},
     "output_type": "execute_result"
    }
   ],
   "source": [
    "np.sqrt(a5)  # squart root operation"
   ]
  },
  {
   "cell_type": "code",
   "execution_count": 120,
   "id": "8de46f16",
   "metadata": {},
   "outputs": [
    {
     "data": {
      "text/plain": [
       "array([[2.68811714e+043, 2.90488497e+013, 5.05239363e+031,\n",
       "        3.02507732e+036, 5.45981500e+001],\n",
       "       [1.58601345e+015, 1.90734657e+021, 1.94242640e+130,\n",
       "        8.88611052e+006, 9.49611942e+019],\n",
       "       [6.56599691e+007, 3.10429794e+026, 3.18559318e+016,\n",
       "        3.58491285e+009, 2.41549528e+007],\n",
       "       [7.89629602e+013, 4.03428793e+002, 1.85867175e+031,\n",
       "        1.69488924e+028, 8.65934004e+016],\n",
       "       [2.09165950e+024, 1.09663316e+003, 2.90488497e+013,\n",
       "        3.49342711e+019, 1.14200739e+026],\n",
       "       [3.49342711e+019, 1.48413159e+002, 5.05239363e+031,\n",
       "        2.23524660e+037, 9.74480345e+009]])"
      ]
     },
     "execution_count": 120,
     "metadata": {},
     "output_type": "execute_result"
    }
   ],
   "source": [
    "np.exp(a5)  # exponential operation"
   ]
  },
  {
   "cell_type": "code",
   "execution_count": 121,
   "id": "26980a00",
   "metadata": {},
   "outputs": [
    {
     "data": {
      "text/plain": [
       "array([[2.        , 1.49136169, 1.86332286, 1.92427929, 0.60205999],\n",
       "       [1.54406804, 1.69019608, 2.47712125, 1.20411998, 1.66275783],\n",
       "       [1.25527251, 1.78532984, 1.5797836 , 1.34242268, 1.23044892],\n",
       "       [1.50514998, 0.77815125, 1.8573325 , 1.81291336, 1.59106461],\n",
       "       [1.74818803, 0.84509804, 1.49136169, 1.65321251, 1.77815125],\n",
       "       [1.65321251, 0.69897   , 1.86332286, 1.93449845, 1.36172784]])"
      ]
     },
     "execution_count": 121,
     "metadata": {},
     "output_type": "execute_result"
    }
   ],
   "source": [
    "np.log10(a5)"
   ]
  },
  {
   "cell_type": "code",
   "execution_count": 122,
   "id": "89da89e1",
   "metadata": {},
   "outputs": [
    {
     "data": {
      "text/plain": [
       "[0, 1, 2, 3, 4, 5, 6, 7, 8, 9]"
      ]
     },
     "execution_count": 122,
     "metadata": {},
     "output_type": "execute_result"
    }
   ],
   "source": [
    "list(range(0,10))"
   ]
  },
  {
   "cell_type": "code",
   "execution_count": 123,
   "id": "b2f0f985",
   "metadata": {},
   "outputs": [
    {
     "data": {
      "text/plain": [
       "[0, 2, 4, 6, 8, 10, 12, 14, 16, 18]"
      ]
     },
     "execution_count": 123,
     "metadata": {},
     "output_type": "execute_result"
    }
   ],
   "source": [
    "list(range(0,20,2)) # step = 2"
   ]
  },
  {
   "cell_type": "code",
   "execution_count": 124,
   "id": "cc60a245",
   "metadata": {},
   "outputs": [
    {
     "ename": "TypeError",
     "evalue": "'float' object cannot be interpreted as an integer",
     "output_type": "error",
     "traceback": [
      "\u001b[1;31m---------------------------------------------------------------------------\u001b[0m",
      "\u001b[1;31mTypeError\u001b[0m                                 Traceback (most recent call last)",
      "\u001b[1;32m~\\AppData\\Local\\Temp/ipykernel_3984/1305518162.py\u001b[0m in \u001b[0;36m<module>\u001b[1;34m\u001b[0m\n\u001b[1;32m----> 1\u001b[1;33m \u001b[0mlist\u001b[0m\u001b[1;33m(\u001b[0m\u001b[0mrange\u001b[0m\u001b[1;33m(\u001b[0m\u001b[1;36m0\u001b[0m\u001b[1;33m,\u001b[0m\u001b[1;36m20\u001b[0m\u001b[1;33m,\u001b[0m\u001b[1;36m2.5\u001b[0m\u001b[1;33m)\u001b[0m\u001b[1;33m)\u001b[0m\u001b[1;33m\u001b[0m\u001b[1;33m\u001b[0m\u001b[0m\n\u001b[0m",
      "\u001b[1;31mTypeError\u001b[0m: 'float' object cannot be interpreted as an integer"
     ]
    }
   ],
   "source": [
    "list(range(0,20,2.5)) \n",
    "# not work with step 2.5, for this we use arange"
   ]
  },
  {
   "cell_type": "code",
   "execution_count": 125,
   "id": "94174bc8",
   "metadata": {},
   "outputs": [
    {
     "data": {
      "text/plain": [
       "array([ 0. ,  2.5,  5. ,  7.5, 10. , 12.5, 15. , 17.5])"
      ]
     },
     "execution_count": 125,
     "metadata": {},
     "output_type": "execute_result"
    }
   ],
   "source": [
    "np.arange(0,20,2.5)  # step 2.5 will work with arange"
   ]
  },
  {
   "cell_type": "code",
   "execution_count": 126,
   "id": "f1d53e1a",
   "metadata": {},
   "outputs": [
    {
     "data": {
      "text/plain": [
       "array([ 1.5,  4. ,  6.5,  9. , 11.5, 14. , 16.5, 19. ])"
      ]
     },
     "execution_count": 126,
     "metadata": {},
     "output_type": "execute_result"
    }
   ],
   "source": [
    "np.arange(1.5, 20.5, 2.5)  \n",
    "# we can take start point, end point, step size as floating number "
   ]
  },
  {
   "cell_type": "code",
   "execution_count": 127,
   "id": "0382d30d",
   "metadata": {},
   "outputs": [
    {
     "data": {
      "text/plain": [
       "array([2.        , 2.02040816, 2.04081633, 2.06122449, 2.08163265,\n",
       "       2.10204082, 2.12244898, 2.14285714, 2.16326531, 2.18367347,\n",
       "       2.20408163, 2.2244898 , 2.24489796, 2.26530612, 2.28571429,\n",
       "       2.30612245, 2.32653061, 2.34693878, 2.36734694, 2.3877551 ,\n",
       "       2.40816327, 2.42857143, 2.44897959, 2.46938776, 2.48979592,\n",
       "       2.51020408, 2.53061224, 2.55102041, 2.57142857, 2.59183673,\n",
       "       2.6122449 , 2.63265306, 2.65306122, 2.67346939, 2.69387755,\n",
       "       2.71428571, 2.73469388, 2.75510204, 2.7755102 , 2.79591837,\n",
       "       2.81632653, 2.83673469, 2.85714286, 2.87755102, 2.89795918,\n",
       "       2.91836735, 2.93877551, 2.95918367, 2.97959184, 3.        ])"
      ]
     },
     "execution_count": 127,
     "metadata": {},
     "output_type": "execute_result"
    }
   ],
   "source": [
    "np.linspace(2,3,num=50) \n",
    "# it generate 50 numbers in between 2 to 3 \n",
    "# what is the step size between each element ?"
   ]
  },
  {
   "cell_type": "code",
   "execution_count": 128,
   "id": "450488d7",
   "metadata": {},
   "outputs": [
    {
     "data": {
      "text/plain": [
       "(array([2.        , 2.33333333, 2.66666667, 3.        ]), 0.3333333333333333)"
      ]
     },
     "execution_count": 128,
     "metadata": {},
     "output_type": "execute_result"
    }
   ],
   "source": [
    "# what is the step size between each element ? \n",
    "np.linspace(2,3,num=4,retstep=True)\n",
    "#step sie =0.3333333333333333"
   ]
  },
  {
   "cell_type": "code",
   "execution_count": 130,
   "id": "6089d4b9",
   "metadata": {},
   "outputs": [
    {
     "data": {
      "text/plain": [
       "array([  100.        ,   464.15888336,  2154.43469003, 10000.        ])"
      ]
     },
     "execution_count": 130,
     "metadata": {},
     "output_type": "execute_result"
    }
   ],
   "source": [
    "np.logspace(2,4,num=4,base=10)"
   ]
  },
  {
   "cell_type": "code",
   "execution_count": 131,
   "id": "99fc5d67",
   "metadata": {},
   "outputs": [
    {
     "data": {
      "text/plain": [
       "array([[1., 0., 0., 0., 0.],\n",
       "       [0., 1., 0., 0., 0.],\n",
       "       [0., 0., 1., 0., 0.],\n",
       "       [0., 0., 0., 1., 0.],\n",
       "       [0., 0., 0., 0., 1.]])"
      ]
     },
     "execution_count": 131,
     "metadata": {},
     "output_type": "execute_result"
    }
   ],
   "source": [
    "# identity matrix which menas rows ==columns\n",
    "np.eye(5)"
   ]
  },
  {
   "cell_type": "code",
   "execution_count": null,
   "id": "f89cc773",
   "metadata": {},
   "outputs": [],
   "source": []
  }
 ],
 "metadata": {
  "kernelspec": {
   "display_name": "Python 3 (ipykernel)",
   "language": "python",
   "name": "python3"
  },
  "language_info": {
   "codemirror_mode": {
    "name": "ipython",
    "version": 3
   },
   "file_extension": ".py",
   "mimetype": "text/x-python",
   "name": "python",
   "nbconvert_exporter": "python",
   "pygments_lexer": "ipython3",
   "version": "3.9.7"
  }
 },
 "nbformat": 4,
 "nbformat_minor": 5
}
